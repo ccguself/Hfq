{
 "metadata": {
  "language_info": {
   "codemirror_mode": {
    "name": "ipython",
    "version": 3
   },
   "file_extension": ".py",
   "mimetype": "text/x-python",
   "name": "python",
   "nbconvert_exporter": "python",
   "pygments_lexer": "ipython3",
   "version": "3.8.5-final"
  },
  "orig_nbformat": 2,
  "kernelspec": {
   "name": "python3",
   "display_name": "Python 3",
   "language": "python"
  }
 },
 "nbformat": 4,
 "nbformat_minor": 2,
 "cells": [
  {
   "cell_type": "code",
   "execution_count": 1,
   "metadata": {},
   "outputs": [],
   "source": [
    "from joblib import Parallel, delayed\n",
    "from data import *"
   ]
  },
  {
   "cell_type": "code",
   "execution_count": 2,
   "metadata": {},
   "outputs": [],
   "source": [
    "data_temp = RawData()"
   ]
  },
  {
   "cell_type": "code",
   "execution_count": 3,
   "metadata": {},
   "outputs": [],
   "source": [
    "data_market = data_temp.fetch_data(n_job=4)"
   ]
  },
  {
   "cell_type": "code",
   "execution_count": 4,
   "metadata": {},
   "outputs": [],
   "source": [
    "data_basic_processed = data_temp.basic_process_data(n_job=4)"
   ]
  },
  {
   "cell_type": "code",
   "execution_count": 5,
   "metadata": {},
   "outputs": [],
   "source": [
    "data_timestamp = data_temp.generate_predict_timestamp(n_job=4)"
   ]
  },
  {
   "cell_type": "code",
   "execution_count": 5,
   "metadata": {},
   "outputs": [
    {
     "output_type": "execute_result",
     "data": {
      "text/plain": [
       "                     datetime  last_price  bid_price_1  bid_volume_1  \\\n",
       "0     2021-01-18 09:03:07.000      4368.0       4368.0          67.0   \n",
       "1     2021-01-18 09:03:07.500      4369.0       4368.0          65.0   \n",
       "2     2021-01-18 09:03:08.000      4369.0       4368.0          59.0   \n",
       "3     2021-01-18 09:03:08.500      4368.0       4367.0         579.0   \n",
       "4     2021-01-18 09:03:09.000      4368.0       4367.0         482.0   \n",
       "...                       ...         ...          ...           ...   \n",
       "25078 2021-01-18 14:59:58.500      4391.0       4392.0           1.0   \n",
       "25079 2021-01-18 14:59:59.000      4392.0       4392.0          66.0   \n",
       "25080 2021-01-18 14:59:59.500      4392.0       4392.0          42.0   \n",
       "25081 2021-01-18 15:00:00.500      4392.0       4392.0          42.0   \n",
       "25082 2021-01-18 15:29:54.000      4392.0       4392.0          42.0   \n",
       "\n",
       "       ask_price_1  ask_volume_1  mid_price  delta_volume  delta_oi   BO   BC  \\\n",
       "0           4369.0         167.0        NaN           0.0       0.0  0.0  0.0   \n",
       "1           4369.0          87.0        NaN         180.0      77.0  0.0  0.0   \n",
       "2           4369.0          99.0        NaN          64.0      29.0  0.0  0.0   \n",
       "3           4368.0         155.0        NaN         116.0      82.0  0.0  0.0   \n",
       "4           4368.0         186.0        NaN          40.0      17.0  0.0  0.0   \n",
       "...            ...           ...        ...           ...       ...  ...  ...   \n",
       "25078       4393.0         125.0        NaN          61.0     -16.0  0.0  0.0   \n",
       "25079       4393.0         210.0        NaN          20.0       1.0  0.0  0.0   \n",
       "25080       4393.0         213.0        NaN          43.0      -3.0  0.0  0.0   \n",
       "25081       4393.0         213.0        NaN           0.0       0.0  0.0  0.0   \n",
       "25082       4393.0         213.0        NaN           0.0       0.0  0.0  0.0   \n",
       "\n",
       "         LO   SC   LE   SO    LC   SE  \n",
       "0       0.0  0.0  0.0  0.0   0.0  0.0  \n",
       "1      77.0  0.0  0.0  0.0   0.0  0.0  \n",
       "2      29.0  0.0  0.0  0.0   0.0  0.0  \n",
       "3      82.0  0.0  0.0  0.0   0.0  0.0  \n",
       "4      17.0  0.0  0.0  0.0   0.0  0.0  \n",
       "...     ...  ...  ...  ...   ...  ...  \n",
       "25078   0.0  0.0  0.0  0.0 -16.0  0.0  \n",
       "25079   0.0  0.0  0.0  1.0   0.0  0.0  \n",
       "25080   0.0  0.0  0.0  0.0  -3.0  0.0  \n",
       "25081   0.0  0.0  0.0  0.0   0.0  0.0  \n",
       "25082   0.0  0.0  0.0  0.0   0.0  0.0  \n",
       "\n",
       "[25083 rows x 17 columns]"
      ],
      "text/html": "<div>\n<style scoped>\n    .dataframe tbody tr th:only-of-type {\n        vertical-align: middle;\n    }\n\n    .dataframe tbody tr th {\n        vertical-align: top;\n    }\n\n    .dataframe thead th {\n        text-align: right;\n    }\n</style>\n<table border=\"1\" class=\"dataframe\">\n  <thead>\n    <tr style=\"text-align: right;\">\n      <th></th>\n      <th>datetime</th>\n      <th>last_price</th>\n      <th>bid_price_1</th>\n      <th>bid_volume_1</th>\n      <th>ask_price_1</th>\n      <th>ask_volume_1</th>\n      <th>mid_price</th>\n      <th>delta_volume</th>\n      <th>delta_oi</th>\n      <th>BO</th>\n      <th>BC</th>\n      <th>LO</th>\n      <th>SC</th>\n      <th>LE</th>\n      <th>SO</th>\n      <th>LC</th>\n      <th>SE</th>\n    </tr>\n  </thead>\n  <tbody>\n    <tr>\n      <th>0</th>\n      <td>2021-01-18 09:03:07.000</td>\n      <td>4368.0</td>\n      <td>4368.0</td>\n      <td>67.0</td>\n      <td>4369.0</td>\n      <td>167.0</td>\n      <td>NaN</td>\n      <td>0.0</td>\n      <td>0.0</td>\n      <td>0.0</td>\n      <td>0.0</td>\n      <td>0.0</td>\n      <td>0.0</td>\n      <td>0.0</td>\n      <td>0.0</td>\n      <td>0.0</td>\n      <td>0.0</td>\n    </tr>\n    <tr>\n      <th>1</th>\n      <td>2021-01-18 09:03:07.500</td>\n      <td>4369.0</td>\n      <td>4368.0</td>\n      <td>65.0</td>\n      <td>4369.0</td>\n      <td>87.0</td>\n      <td>NaN</td>\n      <td>180.0</td>\n      <td>77.0</td>\n      <td>0.0</td>\n      <td>0.0</td>\n      <td>77.0</td>\n      <td>0.0</td>\n      <td>0.0</td>\n      <td>0.0</td>\n      <td>0.0</td>\n      <td>0.0</td>\n    </tr>\n    <tr>\n      <th>2</th>\n      <td>2021-01-18 09:03:08.000</td>\n      <td>4369.0</td>\n      <td>4368.0</td>\n      <td>59.0</td>\n      <td>4369.0</td>\n      <td>99.0</td>\n      <td>NaN</td>\n      <td>64.0</td>\n      <td>29.0</td>\n      <td>0.0</td>\n      <td>0.0</td>\n      <td>29.0</td>\n      <td>0.0</td>\n      <td>0.0</td>\n      <td>0.0</td>\n      <td>0.0</td>\n      <td>0.0</td>\n    </tr>\n    <tr>\n      <th>3</th>\n      <td>2021-01-18 09:03:08.500</td>\n      <td>4368.0</td>\n      <td>4367.0</td>\n      <td>579.0</td>\n      <td>4368.0</td>\n      <td>155.0</td>\n      <td>NaN</td>\n      <td>116.0</td>\n      <td>82.0</td>\n      <td>0.0</td>\n      <td>0.0</td>\n      <td>82.0</td>\n      <td>0.0</td>\n      <td>0.0</td>\n      <td>0.0</td>\n      <td>0.0</td>\n      <td>0.0</td>\n    </tr>\n    <tr>\n      <th>4</th>\n      <td>2021-01-18 09:03:09.000</td>\n      <td>4368.0</td>\n      <td>4367.0</td>\n      <td>482.0</td>\n      <td>4368.0</td>\n      <td>186.0</td>\n      <td>NaN</td>\n      <td>40.0</td>\n      <td>17.0</td>\n      <td>0.0</td>\n      <td>0.0</td>\n      <td>17.0</td>\n      <td>0.0</td>\n      <td>0.0</td>\n      <td>0.0</td>\n      <td>0.0</td>\n      <td>0.0</td>\n    </tr>\n    <tr>\n      <th>...</th>\n      <td>...</td>\n      <td>...</td>\n      <td>...</td>\n      <td>...</td>\n      <td>...</td>\n      <td>...</td>\n      <td>...</td>\n      <td>...</td>\n      <td>...</td>\n      <td>...</td>\n      <td>...</td>\n      <td>...</td>\n      <td>...</td>\n      <td>...</td>\n      <td>...</td>\n      <td>...</td>\n      <td>...</td>\n    </tr>\n    <tr>\n      <th>25078</th>\n      <td>2021-01-18 14:59:58.500</td>\n      <td>4391.0</td>\n      <td>4392.0</td>\n      <td>1.0</td>\n      <td>4393.0</td>\n      <td>125.0</td>\n      <td>NaN</td>\n      <td>61.0</td>\n      <td>-16.0</td>\n      <td>0.0</td>\n      <td>0.0</td>\n      <td>0.0</td>\n      <td>0.0</td>\n      <td>0.0</td>\n      <td>0.0</td>\n      <td>-16.0</td>\n      <td>0.0</td>\n    </tr>\n    <tr>\n      <th>25079</th>\n      <td>2021-01-18 14:59:59.000</td>\n      <td>4392.0</td>\n      <td>4392.0</td>\n      <td>66.0</td>\n      <td>4393.0</td>\n      <td>210.0</td>\n      <td>NaN</td>\n      <td>20.0</td>\n      <td>1.0</td>\n      <td>0.0</td>\n      <td>0.0</td>\n      <td>0.0</td>\n      <td>0.0</td>\n      <td>0.0</td>\n      <td>1.0</td>\n      <td>0.0</td>\n      <td>0.0</td>\n    </tr>\n    <tr>\n      <th>25080</th>\n      <td>2021-01-18 14:59:59.500</td>\n      <td>4392.0</td>\n      <td>4392.0</td>\n      <td>42.0</td>\n      <td>4393.0</td>\n      <td>213.0</td>\n      <td>NaN</td>\n      <td>43.0</td>\n      <td>-3.0</td>\n      <td>0.0</td>\n      <td>0.0</td>\n      <td>0.0</td>\n      <td>0.0</td>\n      <td>0.0</td>\n      <td>0.0</td>\n      <td>-3.0</td>\n      <td>0.0</td>\n    </tr>\n    <tr>\n      <th>25081</th>\n      <td>2021-01-18 15:00:00.500</td>\n      <td>4392.0</td>\n      <td>4392.0</td>\n      <td>42.0</td>\n      <td>4393.0</td>\n      <td>213.0</td>\n      <td>NaN</td>\n      <td>0.0</td>\n      <td>0.0</td>\n      <td>0.0</td>\n      <td>0.0</td>\n      <td>0.0</td>\n      <td>0.0</td>\n      <td>0.0</td>\n      <td>0.0</td>\n      <td>0.0</td>\n      <td>0.0</td>\n    </tr>\n    <tr>\n      <th>25082</th>\n      <td>2021-01-18 15:29:54.000</td>\n      <td>4392.0</td>\n      <td>4392.0</td>\n      <td>42.0</td>\n      <td>4393.0</td>\n      <td>213.0</td>\n      <td>NaN</td>\n      <td>0.0</td>\n      <td>0.0</td>\n      <td>0.0</td>\n      <td>0.0</td>\n      <td>0.0</td>\n      <td>0.0</td>\n      <td>0.0</td>\n      <td>0.0</td>\n      <td>0.0</td>\n      <td>0.0</td>\n    </tr>\n  </tbody>\n</table>\n<p>25083 rows × 17 columns</p>\n</div>"
     },
     "metadata": {},
     "execution_count": 5
    }
   ],
   "source": [
    "data_basic_processed[0]"
   ]
  },
  {
   "cell_type": "code",
   "execution_count": null,
   "metadata": {},
   "outputs": [],
   "source": []
  }
 ]
}