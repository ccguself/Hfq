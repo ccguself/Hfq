{
 "cells": [
  {
   "cell_type": "code",
   "execution_count": null,
   "metadata": {
    "ExecuteTime": {
     "end_time": "2021-01-13T07:10:29.778231Z",
     "start_time": "2021-01-13T07:10:29.227436Z"
    }
   },
   "outputs": [],
   "source": [
    "import os\n",
    "import numpy as np\n",
    "import time \n",
    "from data import data_stct\n",
    "from config import *\n",
    "import forecast\n",
    "import predict"
   ]
  },
  {
   "cell_type": "markdown",
   "metadata": {},
   "source": [
    "## 使用说明：\n",
    "\n",
    "#### Input：\n",
    "\n",
    "分钟数据：15分钟行情数据，以'open','high','low','close','volume'5个值顺序排列，输入一个15*5的np.array。\n",
    "\n",
    "tick数据：15分钟行情数据，以'datetime','ClosePx','TotalVolumeTrade','Buy1Price','Buy1OrderQty','Sell1Price','Sell1OrderQty'7个值顺序排列，输入一个2000*7的np.array。\n",
    "\n",
    "#### Output：为一系列下单指令，示例如下：\n",
    "\n",
    "[{'direction': 'long', 'limit_1': 3707.0, 'stop': 3697.0, 'limit_2': 3710.0, 'num:': 1, 'duration_min': 3, 'cancel_second': 60}, {'direction': 'long', 'limit_1': 3706.0, 'stop': 3696.0, 'limit_2': 3709.0, 'num:': 1, 'duration_min': 3, 'cancel_second': 60}, {'direction': 'long', 'limit_1': 3705.0, 'stop': 3695.0, 'limit_2': 3708.0, 'num:': 2, 'duration_min': 3, 'cancel_second': 60}, {'direction': 'long', 'limit_1': 3704.0, 'stop': 3694.0, 'limit_2': 3707.0, 'num:': 3, 'duration_min': 3, 'cancel_second': 60}]"
   ]
  },
  {
   "cell_type": "code",
   "execution_count": 3,
   "metadata": {
    "ExecuteTime": {
     "end_time": "2021-01-13T07:10:33.417779Z",
     "start_time": "2021-01-13T07:10:33.181123Z"
    }
   },
   "outputs": [
    {
     "name": "stdout",
     "output_type": "stream",
     "text": [
      "[]\n"
     ]
    }
   ],
   "source": [
    "input_data = np.random.rand(2000,6)\n",
    "timestamp = np.expand_dims(np.array(range(2000)),axis=1)\n",
    "input_data = np.concatenate((timestamp,input_data),axis=1)\n",
    "signal_generator = predict.signal_output()##只需要启动一次就可以，可以写在init里面，不用每次预测都调用新对象\n",
    "\n",
    "output_data = signal_generator.get_output_list(input_data)\n",
    "print(output_data)"
   ]
  }
 ],
 "metadata": {
  "hide_input": false,
  "kernelspec": {
   "display_name": "Python 3",
   "language": "python",
   "name": "python3"
  },
  "language_info": {
   "codemirror_mode": {
    "name": "ipython",
    "version": 3
   },
   "file_extension": ".py",
   "mimetype": "text/x-python",
   "name": "python",
   "nbconvert_exporter": "python",
   "pygments_lexer": "ipython3",
   "version": "3.6.5"
  },
  "toc": {
   "base_numbering": 1,
   "nav_menu": {},
   "number_sections": true,
   "sideBar": true,
   "skip_h1_title": false,
   "title_cell": "Table of Contents",
   "title_sidebar": "Contents",
   "toc_cell": false,
   "toc_position": {},
   "toc_section_display": true,
   "toc_window_display": false
  }
 },
 "nbformat": 4,
 "nbformat_minor": 2
}
